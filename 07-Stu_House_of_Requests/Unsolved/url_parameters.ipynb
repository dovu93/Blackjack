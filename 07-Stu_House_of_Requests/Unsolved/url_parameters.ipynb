{
 "cells": [
  {
   "cell_type": "markdown",
   "metadata": {},
   "source": [
    "# House of Requests"
   ]
  },
  {
   "cell_type": "markdown",
   "metadata": {},
   "source": [
    "Use the `Deck of Cards` API to play a game of BlackJack with a partner. Parameterize the `Deck of Cards` API `request urls` in order to create the deck of cards, as well as draw cards for the game."
   ]
  },
  {
   "cell_type": "code",
   "execution_count": 2,
   "metadata": {},
   "outputs": [],
   "source": [
    "import requests\n",
    "import json"
   ]
  },
  {
   "cell_type": "markdown",
   "metadata": {},
   "source": [
    "## Prep for the Game"
   ]
  },
  {
   "cell_type": "code",
   "execution_count": 3,
   "metadata": {},
   "outputs": [
    {
     "name": "stdout",
     "output_type": "stream",
     "text": [
      "{\n",
      "    \"success\": true,\n",
      "    \"deck_id\": \"9q3m5izpfgfl\",\n",
      "    \"remaining\": 312,\n",
      "    \"shuffled\": true\n",
      "}\n"
     ]
    }
   ],
   "source": [
    "# Declare request urls\n",
    "create_deck_url = \"https://deckofcardsapi.com/api/deck/new/shuffle/?deck_count=6\"\n",
    "draw_cards_url = \"https://deckofcardsapi.com/api/deck/{deck_id}/draw/?count=2\"\n",
    "shuffle_deck_url = \"https://deckofcardsapi.com/api/deck/{deck_id}/shuffle/\"\n",
    "\n",
    "# Execute create deck url\n",
    "response_data = requests.get(create_deck_url).json()\n",
    "print(json.dumps(response_data, indent=4))"
   ]
  },
  {
   "cell_type": "markdown",
   "metadata": {},
   "source": [
    "### Parse JSON and extract `deck_id`"
   ]
  },
  {
   "cell_type": "code",
   "execution_count": 4,
   "metadata": {},
   "outputs": [
    {
     "name": "stdout",
     "output_type": "stream",
     "text": [
      "9q3m5izpfgfl\n"
     ]
    }
   ],
   "source": [
    "# Select deck_id\n",
    "\n",
    "deck_id = response_data[\"deck_id\"]\n",
    "print(deck_id)"
   ]
  },
  {
   "cell_type": "markdown",
   "metadata": {},
   "source": [
    "### Update `draw_cards_url` and `shuffle_deck_url` with `deck_id`"
   ]
  },
  {
   "cell_type": "code",
   "execution_count": 5,
   "metadata": {},
   "outputs": [
    {
     "name": "stdout",
     "output_type": "stream",
     "text": [
      "https://deckofcardsapi.com/api/deck/9q3m5izpfgfl/draw/?count=2\n",
      "https://deckofcardsapi.com/api/deck/9q3m5izpfgfl/shuffle/\n"
     ]
    }
   ],
   "source": [
    "# Interpolate deck_id into draw_cards_url and shuffle_deck_url\n",
    "draw_cards_url = f\"https://deckofcardsapi.com/api/deck/{deck_id}/draw/?count=2\"\n",
    "draw1_cards_url = f\"https://deckofcardsapi.com/api/deck/{deck_id}/draw/?count=1\"\n",
    "shuffle_deck_url = f\"https://deckofcardsapi.com/api/deck/{deck_id}/shuffle/\"\n",
    "print(draw_cards_url)\n",
    "print(shuffle_deck_url)"
   ]
  },
  {
   "cell_type": "code",
   "execution_count": 6,
   "metadata": {},
   "outputs": [
    {
     "name": "stdout",
     "output_type": "stream",
     "text": [
      "{\n",
      "    \"success\": true,\n",
      "    \"deck_id\": \"9q3m5izpfgfl\",\n",
      "    \"cards\": [\n",
      "        {\n",
      "            \"code\": \"8C\",\n",
      "            \"image\": \"https://deckofcardsapi.com/static/img/8C.png\",\n",
      "            \"images\": {\n",
      "                \"svg\": \"https://deckofcardsapi.com/static/img/8C.svg\",\n",
      "                \"png\": \"https://deckofcardsapi.com/static/img/8C.png\"\n",
      "            },\n",
      "            \"value\": \"8\",\n",
      "            \"suit\": \"CLUBS\"\n",
      "        },\n",
      "        {\n",
      "            \"code\": \"3D\",\n",
      "            \"image\": \"https://deckofcardsapi.com/static/img/3D.png\",\n",
      "            \"images\": {\n",
      "                \"svg\": \"https://deckofcardsapi.com/static/img/3D.svg\",\n",
      "                \"png\": \"https://deckofcardsapi.com/static/img/3D.png\"\n",
      "            },\n",
      "            \"value\": \"3\",\n",
      "            \"suit\": \"DIAMONDS\"\n",
      "        }\n",
      "    ],\n",
      "    \"remaining\": 310\n",
      "}\n"
     ]
    }
   ],
   "source": [
    "rep = requests.get(draw_cards_url).json()\n",
    "print(json.dumps(rep, indent = 4))"
   ]
  },
  {
   "cell_type": "markdown",
   "metadata": {},
   "source": [
    "## Player 1 Turn"
   ]
  },
  {
   "cell_type": "markdown",
   "metadata": {},
   "source": [
    "### Draw two cards"
   ]
  },
  {
   "cell_type": "code",
   "execution_count": 7,
   "metadata": {},
   "outputs": [
    {
     "name": "stdout",
     "output_type": "stream",
     "text": [
      "8 of CLUBS\n",
      "3 of DIAMONDS\n"
     ]
    }
   ],
   "source": [
    "# Draw two cards\n",
    "\n",
    "card1_value = rep[\"cards\"][0][\"value\"]\n",
    "card1_suit = rep[\"cards\"][0][\"suit\"]\n",
    "\n",
    "card2_value = rep[\"cards\"][1][\"value\"]\n",
    "card2_suit = rep[\"cards\"][1][\"suit\"]\n",
    "\n",
    "player_1_card_1 = card1_value +  \" of \" + card1_suit\n",
    "player_1_card_2 = card2_value + \" of \" + card2_suit\n",
    " \n",
    "print(player_1_card_1)\n",
    "print(player_1_card_2)"
   ]
  },
  {
   "cell_type": "markdown",
   "metadata": {},
   "source": [
    "### Parse and extract `value` and `suit` elements from JSON output, for each card"
   ]
  },
  {
   "cell_type": "code",
   "execution_count": 27,
   "metadata": {},
   "outputs": [
    {
     "name": "stdout",
     "output_type": "stream",
     "text": [
      "7 of CLUBS\n",
      "QUEEN of HEARTS\n"
     ]
    }
   ],
   "source": [
    "# Select returned card's value and suit (i.e. 3 of clubs)\n",
    "\n",
    "\n",
    "# Print player cards\n",
    "print(player_1_card_1)\n",
    "print(player_1_card_2)"
   ]
  },
  {
   "cell_type": "markdown",
   "metadata": {},
   "source": [
    "### Decide whether to draw another card or skip to next player turn"
   ]
  },
  {
   "cell_type": "code",
   "execution_count": 28,
   "metadata": {},
   "outputs": [
    {
     "ename": "ValueError",
     "evalue": "invalid literal for int() with base 10: 'QUEEN'",
     "output_type": "error",
     "traceback": [
      "\u001b[1;31m---------------------------------------------------------------------------\u001b[0m",
      "\u001b[1;31mValueError\u001b[0m                                Traceback (most recent call last)",
      "\u001b[1;32m<ipython-input-28-d7906e7520cb>\u001b[0m in \u001b[0;36m<module>\u001b[1;34m\u001b[0m\n\u001b[0;32m      1\u001b[0m \u001b[1;31m# Draw a third card\u001b[0m\u001b[1;33m\u001b[0m\u001b[1;33m\u001b[0m\u001b[1;33m\u001b[0m\u001b[0m\n\u001b[1;32m----> 2\u001b[1;33m \u001b[1;32mif\u001b[0m \u001b[0mint\u001b[0m\u001b[1;33m(\u001b[0m\u001b[0mcard1_value\u001b[0m\u001b[1;33m)\u001b[0m \u001b[1;33m+\u001b[0m \u001b[0mint\u001b[0m\u001b[1;33m(\u001b[0m\u001b[0mcard2_value\u001b[0m\u001b[1;33m)\u001b[0m \u001b[1;33m<=\u001b[0m \u001b[1;36m10\u001b[0m\u001b[1;33m:\u001b[0m\u001b[1;33m\u001b[0m\u001b[1;33m\u001b[0m\u001b[0m\n\u001b[0m\u001b[0;32m      3\u001b[0m     \u001b[0mdraw\u001b[0m \u001b[1;33m=\u001b[0m \u001b[0mrequests\u001b[0m\u001b[1;33m.\u001b[0m\u001b[0mget\u001b[0m\u001b[1;33m(\u001b[0m\u001b[0mdraw1_cards_url\u001b[0m\u001b[1;33m)\u001b[0m\u001b[1;33m.\u001b[0m\u001b[0mjson\u001b[0m\u001b[1;33m(\u001b[0m\u001b[1;33m)\u001b[0m\u001b[1;33m\u001b[0m\u001b[1;33m\u001b[0m\u001b[0m\n\u001b[0;32m      4\u001b[0m     \u001b[0mcard3_value\u001b[0m \u001b[1;33m=\u001b[0m \u001b[0mdraw\u001b[0m\u001b[1;33m[\u001b[0m\u001b[1;34m\"cards\"\u001b[0m\u001b[1;33m]\u001b[0m\u001b[1;33m[\u001b[0m\u001b[1;36m0\u001b[0m\u001b[1;33m]\u001b[0m\u001b[1;33m[\u001b[0m\u001b[1;34m\"value\"\u001b[0m\u001b[1;33m]\u001b[0m\u001b[1;33m\u001b[0m\u001b[1;33m\u001b[0m\u001b[0m\n\u001b[0;32m      5\u001b[0m     \u001b[0mcard3_suit\u001b[0m \u001b[1;33m=\u001b[0m \u001b[0mdraw\u001b[0m\u001b[1;33m[\u001b[0m\u001b[1;34m\"cards\"\u001b[0m\u001b[1;33m]\u001b[0m\u001b[1;33m[\u001b[0m\u001b[1;36m0\u001b[0m\u001b[1;33m]\u001b[0m\u001b[1;33m[\u001b[0m\u001b[1;34m\"suit\"\u001b[0m\u001b[1;33m]\u001b[0m\u001b[1;33m\u001b[0m\u001b[1;33m\u001b[0m\u001b[0m\n",
      "\u001b[1;31mValueError\u001b[0m: invalid literal for int() with base 10: 'QUEEN'"
     ]
    }
   ],
   "source": [
    "# Draw a third card\n",
    "if int(card1_value) + int(card2_value) <= 10:\n",
    "    draw = requests.get(draw1_cards_url).json()\n",
    "    card3_value = draw[\"cards\"][0][\"value\"]\n",
    "    card3_suit = draw[\"cards\"][0][\"suit\"]\n",
    "    player_1_card_3 = card3_value + \" of \" + card3_suit\n",
    "    print(player_1_card_3)\n",
    "\n",
    "\n",
    "# Select returned card's value and suit (i.e. 3 of clubs)\n",
    "\n",
    "\n",
    "# Print player card\n",
    "# print(player_1_card_3)"
   ]
  },
  {
   "cell_type": "markdown",
   "metadata": {},
   "source": [
    "### Manually calculate player 1 points and enter below"
   ]
  },
  {
   "cell_type": "markdown",
   "metadata": {},
   "source": [
    "Player 1 points = "
   ]
  },
  {
   "cell_type": "raw",
   "metadata": {},
   "source": []
  },
  {
   "cell_type": "markdown",
   "metadata": {},
   "source": [
    "## Player 2 / Dealer Turn"
   ]
  },
  {
   "cell_type": "code",
   "execution_count": 29,
   "metadata": {},
   "outputs": [
    {
     "name": "stdout",
     "output_type": "stream",
     "text": [
      "9 of CLUBS\n",
      "5 of SPADES\n",
      "QUEEN of CLUBS\n"
     ]
    },
    {
     "ename": "NameError",
     "evalue": "name 'player_2_card_3' is not defined",
     "output_type": "error",
     "traceback": [
      "\u001b[1;31m---------------------------------------------------------------------------\u001b[0m",
      "\u001b[1;31mNameError\u001b[0m                                 Traceback (most recent call last)",
      "\u001b[1;32m<ipython-input-29-130497216888>\u001b[0m in \u001b[0;36m<module>\u001b[1;34m\u001b[0m\n\u001b[0;32m     29\u001b[0m \u001b[1;33m\u001b[0m\u001b[0m\n\u001b[0;32m     30\u001b[0m \u001b[1;31m# Print player card\u001b[0m\u001b[1;33m\u001b[0m\u001b[1;33m\u001b[0m\u001b[1;33m\u001b[0m\u001b[0m\n\u001b[1;32m---> 31\u001b[1;33m \u001b[0mprint\u001b[0m\u001b[1;33m(\u001b[0m\u001b[0mplayer_2_card_3\u001b[0m\u001b[1;33m)\u001b[0m\u001b[1;33m\u001b[0m\u001b[1;33m\u001b[0m\u001b[0m\n\u001b[0m",
      "\u001b[1;31mNameError\u001b[0m: name 'player_2_card_3' is not defined"
     ]
    }
   ],
   "source": [
    "# Draw two cards for player 1\n",
    "rep = requests.get(draw_cards_url).json()\n",
    "\n",
    "# Select card value and suit \n",
    "dcard1_value = rep[\"cards\"][0][\"value\"]\n",
    "dcard1_suit = rep[\"cards\"][0][\"suit\"]\n",
    "\n",
    "dcard2_value = rep[\"cards\"][1][\"value\"]\n",
    "dcard2_suit = rep[\"cards\"][1][\"suit\"]\n",
    "\n",
    "dplayer_1_card_1 = dcard1_value +  \" of \" + dcard1_suit\n",
    "dplayer_1_card_2 = dcard2_value + \" of \" + dcard2_suit\n",
    " \n",
    "print(dplayer_1_card_1)\n",
    "print(dplayer_1_card_2)\n",
    "\n",
    "\n",
    "# Print player cards\n",
    "# print(player_2_card_1)\n",
    "# print(player_2_card_2)\n",
    "\n",
    "# Draw third card for player 2\n",
    "if int(dcard1_value) + int(dcard2_value) < 17:\n",
    "    draw = requests.get(draw1_cards_url).json()\n",
    "    card3_value = draw[\"cards\"][0][\"value\"]\n",
    "    card3_suit = draw[\"cards\"][0][\"suit\"]\n",
    "    player_1_card_3 = card3_value + \" of \" + card3_suit\n",
    "    print(player_1_card_3)\n",
    "\n",
    "# Print player card\n",
    "# print(player_2_card_3)"
   ]
  },
  {
   "cell_type": "markdown",
   "metadata": {},
   "source": [
    "### Manually calculate player 2 points and enter below"
   ]
  },
  {
   "cell_type": "markdown",
   "metadata": {},
   "source": [
    "Player 2 points ="
   ]
  },
  {
   "cell_type": "raw",
   "metadata": {},
   "source": []
  }
 ],
 "metadata": {
  "kernelspec": {
   "display_name": "Python 3",
   "language": "python",
   "name": "python3"
  },
  "language_info": {
   "codemirror_mode": {
    "name": "ipython",
    "version": 3
   },
   "file_extension": ".py",
   "mimetype": "text/x-python",
   "name": "python",
   "nbconvert_exporter": "python",
   "pygments_lexer": "ipython3",
   "version": "3.7.7"
  }
 },
 "nbformat": 4,
 "nbformat_minor": 4
}
