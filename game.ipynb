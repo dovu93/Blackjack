{
 "cells": [
  {
   "cell_type": "markdown",
   "metadata": {},
   "source": [
    "# Goals to accomplish.\n",
    "\n",
    "- Get decks sorted out and draw cards function.\n",
    "- Imput starting amout of cash. \n",
    "- Input amount of money willing to risk.\n",
    "- Draw cards for self and dealer, start off by drawing 4 cards.\n",
    "- Present cards to self and dealer.\n",
    "- Input ways to calculate value of ACES, KING, QUEEN, JACK.\n",
    "- Ask if self would like to hit or stay.\n",
    "- Dealer must hit if below 17.\n",
    "- Calculate who wins.\n",
    "- Distrubte money evenly. \n",
    "- Ask if they would like to play again. "
   ]
  },
  {
   "cell_type": "code",
   "execution_count": 48,
   "metadata": {},
   "outputs": [],
   "source": [
    "import requests\n",
    "import json\n",
    "draw_cards_url = f\"https://deckofcardsapi.com/api/deck/{deck_id}/draw/?count=2\"\n",
    "draw4_cards_url = f\"https://deckofcardsapi.com/api/deck/{deck_id}/draw/?count=4\"\n",
    "draw_card_url = f\"https://deckofcardsapi.com/api/deck/{deck_id}/draw/?count=1\"\n",
    "shuffle_deck_url = f\"https://deckofcardsapi.com/api/deck/{deck_id}/shuffle/\"\n",
    "\n",
    "response_data = requests.get(create_deck_url).json()\n",
    "deck_id = response_data[\"deck_id\"]"
   ]
  },
  {
   "cell_type": "code",
   "execution_count": 50,
   "metadata": {},
   "outputs": [
    {
     "name": "stdout",
     "output_type": "stream",
     "text": [
      "How much money would you like to start off with?\n"
     ]
    },
    {
     "name": "stdin",
     "output_type": "stream",
     "text": [
      " 100\n"
     ]
    }
   ],
   "source": [
    "print(\"How much money would you like to start off with?\")\n",
    "starting_money = input()"
   ]
  },
  {
   "cell_type": "code",
   "execution_count": 51,
   "metadata": {},
   "outputs": [
    {
     "name": "stdout",
     "output_type": "stream",
     "text": [
      "How much money would you like to wager this hand?\n"
     ]
    },
    {
     "name": "stdin",
     "output_type": "stream",
     "text": [
      " 20\n"
     ]
    }
   ],
   "source": [
    "print(\"How much money would you like to wager this hand?\")\n",
    "wager = input()"
   ]
  },
  {
   "cell_type": "code",
   "execution_count": 52,
   "metadata": {},
   "outputs": [],
   "source": [
    "# write code to draw cards\n",
    "\n",
    "cards = requests.get(draw4_cards_url).json()\n",
    "\n",
    "card1_value = cards[\"cards\"][0][\"value\"]\n",
    "card1_suit = cards[\"cards\"][0][\"suit\"]\n",
    "card1 = card1_value + \" of \" + card1_suit\n",
    "\n",
    "card2_value = cards[\"cards\"][1][\"value\"]\n",
    "card2_suit = cards[\"cards\"][1][\"suit\"]\n",
    "card2 = (card2_value + \" of \" + card2_suit)\n",
    "\n",
    "card3_value = cards[\"cards\"][2][\"value\"]\n",
    "card3_suit = cards[\"cards\"][2][\"suit\"]\n",
    "card3 = card3_value + \" of \" + card3_suit\n",
    "\n",
    "card4_value = cards[\"cards\"][3][\"value\"]\n",
    "card4_suit = cards[\"cards\"][3][\"suit\"]\n",
    "card4 = card4_value + \" of \" + card4_suit"
   ]
  },
  {
   "cell_type": "code",
   "execution_count": 53,
   "metadata": {},
   "outputs": [
    {
     "name": "stdout",
     "output_type": "stream",
     "text": [
      "Your Hand: \n",
      "10 of HEARTS\n",
      "10 of SPADES\n",
      "\n",
      "Dealer's Hand: \n",
      "4 of HEARTS\n",
      "7 of DIAMONDS\n",
      "\n",
      "Would you like to hit? (y/n)\n"
     ]
    },
    {
     "name": "stdin",
     "output_type": "stream",
     "text": [
      " y\n"
     ]
    }
   ],
   "source": [
    "print(\"Your Hand: \\n\" + card1 + \"\\n\" + card3 + \"\\n\")\n",
    "print(\"Dealer's Hand: \\n\" + card2 + \"\\n\" + card4 + \"\\n\")\n",
    "print(\"Would you like to hit? (y/n)\")\n",
    "choice = input()"
   ]
  },
  {
   "cell_type": "code",
   "execution_count": 56,
   "metadata": {},
   "outputs": [
    {
     "name": "stdout",
     "output_type": "stream",
     "text": [
      "Your Hand: \n",
      "10 of HEARTS\n",
      "10 of SPADES\n",
      "7 of  SPADES\n",
      "Dealer's Hand: \n",
      "4 of HEARTS\n",
      "7 of DIAMONDS\n",
      "\n",
      "You lose. :(\n"
     ]
    }
   ],
   "source": [
    "if choice == \"y\":\n",
    "    card = requests.get(draw_card_url).json()\n",
    "    card5_value = card[\"cards\"][0][\"value\"]\n",
    "    card5_suit = card[\"cards\"][0][\"suit\"]\n",
    "    card5 = card5_value + \" of  \" + card5_suit\n",
    "#     calculate value in case you bust\n",
    "    if int(card1_value) + int(card3_value) + int(card5_value) > 21: \n",
    "        print(\"Your Hand: \\n\" + card1 + \"\\n\" + card3 + \"\\n\" + card5)\n",
    "        print(\"Dealer's Hand: \\n\" + card2 + \"\\n\" + card4 + \"\\n\")\n",
    "        print(\"You lose. :(\")\n",
    "#     else:\n",
    "#     print(\"Your Hand: \\n\" + card1 + \"\\n\" + card3 + \"\\n\" + card5)\n",
    "#     print(\"Dealer's Hand: \\n\" + card2 + \"\\n\" + card4 + \"\\n\")\n",
    "# print(\"Would you like to hit? (y/n)\")\n",
    "# else:\n",
    "#     if dealer's hand is below 17, he hits\n",
    "#     card = requests.get(draw_card_url).json()\n",
    "#     card6_value = card[\"cards\"][0][\"value\"]\n",
    "#     card6_suit = card[\"cards\"][0][\"suit\"]\n",
    "#     calculate dealer's value\n",
    "# else calculate winner\n"
   ]
  },
  {
   "cell_type": "code",
   "execution_count": null,
   "metadata": {},
   "outputs": [],
   "source": []
  }
 ],
 "metadata": {
  "kernelspec": {
   "display_name": "Python 3",
   "language": "python",
   "name": "python3"
  },
  "language_info": {
   "codemirror_mode": {
    "name": "ipython",
    "version": 3
   },
   "file_extension": ".py",
   "mimetype": "text/x-python",
   "name": "python",
   "nbconvert_exporter": "python",
   "pygments_lexer": "ipython3",
   "version": "3.7.7"
  }
 },
 "nbformat": 4,
 "nbformat_minor": 4
}
